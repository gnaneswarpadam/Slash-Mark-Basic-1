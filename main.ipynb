{
 "cells": [
  {
   "cell_type": "code",
   "execution_count": 1,
   "id": "d8ee11a1",
   "metadata": {},
   "outputs": [
    {
     "name": "stderr",
     "output_type": "stream",
     "text": [
      "C:\\Users\\Venkata Gnaneswar\\anaconda3\\lib\\site-packages\\scipy\\__init__.py:155: UserWarning: A NumPy version >=1.18.5 and <1.25.0 is required for this version of SciPy (detected version 1.26.3\n",
      "  warnings.warn(f\"A NumPy version >={np_minversion} and <{np_maxversion}\"\n"
     ]
    }
   ],
   "source": [
    "import pandas as pd\n",
    "from sklearn.feature_extraction.text import CountVectorizer\n",
    "from sklearn.naive_bayes import MultinomialNB\n",
    "from sklearn.pipeline import make_pipeline\n",
    "import random"
   ]
  },
  {
   "cell_type": "code",
   "execution_count": 2,
   "id": "49dc45cd",
   "metadata": {},
   "outputs": [],
   "source": [
    "# Initialize an empty task list\n",
    "tasks = pd.DataFrame(columns=['description', 'priority'])"
   ]
  },
  {
   "cell_type": "code",
   "execution_count": 3,
   "id": "df031e20",
   "metadata": {},
   "outputs": [],
   "source": [
    "# Load pre-existing tasks from a CSV file (if any)\n",
    "try:\n",
    "    tasks = pd.read_csv('tasks.csv')\n",
    "except FileNotFoundError: \n",
    "    pass"
   ]
  },
  {
   "cell_type": "code",
   "execution_count": 4,
   "id": "66c442c0",
   "metadata": {},
   "outputs": [],
   "source": [
    "# Function to save tasks to a CSV file\n",
    "def save_tasks():\n",
    "    tasks.to_csv('tasks.csv', index=False)"
   ]
  },
  {
   "cell_type": "code",
   "execution_count": 5,
   "id": "10324d36",
   "metadata": {},
   "outputs": [
    {
     "data": {
      "text/plain": [
       "Pipeline(steps=[('countvectorizer', CountVectorizer()),\n",
       "                ('multinomialnb', MultinomialNB())])"
      ]
     },
     "execution_count": 5,
     "metadata": {},
     "output_type": "execute_result"
    }
   ],
   "source": [
    "# Train the task priority classifier\n",
    "vectorizer = CountVectorizer()\n",
    "clf = MultinomialNB()\n",
    "model = make_pipeline(vectorizer, clf)\n",
    "model.fit(tasks['description'], tasks['priority'])"
   ]
  },
  {
   "cell_type": "code",
   "execution_count": 6,
   "id": "daf539d2",
   "metadata": {},
   "outputs": [],
   "source": [
    "# Function to add a task to the list\n",
    "def add_task(description, priority):\n",
    "    global tasks  # Declare tasks as a global variable\n",
    "    new_task = pd.DataFrame({'description': [description], 'priority': [priority]})\n",
    "    tasks = pd.concat([tasks, new_task], ignore_index=True)\n",
    "    save_tasks()"
   ]
  },
  {
   "cell_type": "code",
   "execution_count": 7,
   "id": "9e80c2d6",
   "metadata": {},
   "outputs": [],
   "source": [
    "# Function to remove a task by description\n",
    "def remove_task(description):\n",
    "    tasks = tasks[tasks['description'] != description]\n",
    "    save_tasks()"
   ]
  },
  {
   "cell_type": "code",
   "execution_count": 8,
   "id": "7864648b",
   "metadata": {},
   "outputs": [],
   "source": [
    "# Function to list all tasks\n",
    "def list_tasks():\n",
    "    if tasks.empty:\n",
    "        print(\"No tasks available.\")\n",
    "    else:\n",
    "        print(tasks)"
   ]
  },
  {
   "cell_type": "code",
   "execution_count": 9,
   "id": "cc41077f",
   "metadata": {},
   "outputs": [],
   "source": [
    "# Function to recommend a task based on machine learning\n",
    "def recommend_task():\n",
    "    if not tasks.empty:\n",
    "        # Get high-priority tasks\n",
    "        high_priority_tasks = tasks[tasks['priority'] == 'High']\n",
    "        \n",
    "        if not high_priority_tasks.empty:\n",
    "            # Choose a random high-priority task\n",
    "            random_task = random.choice(high_priority_tasks['description'])\n",
    "            print(f\"Recommended task: {random_task} - Priority: High\")\n",
    "        else:\n",
    "            print(\"No high-priority tasks available for recommendation.\")\n",
    "    else:\n",
    "        print(\"No tasks available for recommendations.\")"
   ]
  },
  {
   "cell_type": "code",
   "execution_count": 10,
   "id": "92f1105c",
   "metadata": {
    "scrolled": true
   },
   "outputs": [
    {
     "name": "stdout",
     "output_type": "stream",
     "text": [
      "\n",
      "Task Management App\n",
      "1. Add Task\n",
      "2. Remove Task\n",
      "3. List Tasks\n",
      "4. Recommend Task\n",
      "5. Exit\n",
      "Select an option: 1\n",
      "Enter task description: Assignments\n",
      "Enter task priority (Low/Medium/High): High\n",
      "Task added successfully.\n",
      "\n",
      "Task Management App\n",
      "1. Add Task\n",
      "2. Remove Task\n",
      "3. List Tasks\n",
      "4. Recommend Task\n",
      "5. Exit\n",
      "Select an option: 1\n",
      "Enter task description: Groceries\n",
      "Enter task priority (Low/Medium/High): Medium\n",
      "Task added successfully.\n",
      "\n",
      "Task Management App\n",
      "1. Add Task\n",
      "2. Remove Task\n",
      "3. List Tasks\n",
      "4. Recommend Task\n",
      "5. Exit\n",
      "Select an option: 3\n",
      "                             description priority\n",
      "0                          Buy groceries     High\n",
      "1                Complete project report   Medium\n",
      "2       Schedule a meeting with the team      Low\n",
      "3   Prepare presentation for the meeting   Medium\n",
      "4                          Pay the bills     High\n",
      "5                               Exercise      Low\n",
      "6                                      A      Low\n",
      "7                            Assignments     High\n",
      "8                            Assignments     High\n",
      "9                              Groceries   Medium\n",
      "10                       PPT Preparation     High\n",
      "11                           Assignments     High\n",
      "12                             Groceries   Medium\n",
      "\n",
      "Task Management App\n",
      "1. Add Task\n",
      "2. Remove Task\n",
      "3. List Tasks\n",
      "4. Recommend Task\n",
      "5. Exit\n",
      "Select an option: 5\n",
      "Goodbye!\n"
     ]
    }
   ],
   "source": [
    "# Main menu\n",
    "while True:\n",
    "    print(\"\\nTask Management App\")\n",
    "    print(\"1. Add Task\")\n",
    "    print(\"2. Remove Task\")\n",
    "    print(\"3. List Tasks\")\n",
    "    print(\"4. Recommend Task\")\n",
    "    print(\"5. Exit\")\n",
    "\n",
    "    choice = input(\"Select an option: \")\n",
    "\n",
    "    if choice == \"1\":\n",
    "        description = input(\"Enter task description: \")\n",
    "        priority = input(\"Enter task priority (Low/Medium/High): \").capitalize()\n",
    "        add_task(description, priority)\n",
    "        print(\"Task added successfully.\")\n",
    "\n",
    "    elif choice == \"2\":\n",
    "        description = input(\"Enter task description to remove: \")\n",
    "        remove_task(description)\n",
    "        print(\"Task removed successfully.\")\n",
    "\n",
    "    elif choice == \"3\":\n",
    "        list_tasks()\n",
    "\n",
    "    elif choice == \"4\":\n",
    "        recommend_task()\n",
    "\n",
    "    elif choice == \"5\":\n",
    "        print(\"Goodbye!\")\n",
    "        break\n",
    "\n",
    "    else:\n",
    "        print(\"Invalid option. Please select a valid option.\")"
   ]
  }
 ],
 "metadata": {
  "kernelspec": {
   "display_name": "Python 3 (ipykernel)",
   "language": "python",
   "name": "python3"
  },
  "language_info": {
   "codemirror_mode": {
    "name": "ipython",
    "version": 3
   },
   "file_extension": ".py",
   "mimetype": "text/x-python",
   "name": "python",
   "nbconvert_exporter": "python",
   "pygments_lexer": "ipython3",
   "version": "3.9.13"
  }
 },
 "nbformat": 4,
 "nbformat_minor": 5
}
